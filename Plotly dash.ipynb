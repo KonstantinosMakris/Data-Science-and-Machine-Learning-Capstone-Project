{
    "cells": [
        {
            "cell_type": "code",
            "execution_count": null,
            "metadata": {
                "collapsed": true
            },
            "outputs": [],
            "source": "\n# Terminal:\n# pip3 install pandas dash\n# wget \"https://cf-courses-data.s3.us.cloud-object-storage.appdomain.cloud/IBM-DS0321EN-SkillsNetwork/datasets/spacex_launch_dash.csv\"\n# wget \"https://cf-courses-data.s3.us.cloud-object-storage.appdomain.cloud/IBM-DS0321EN-SkillsNetwork/labs/module_3/spacex_dash_app.py\"\n\nimport pandas as pd\nimport dash\nfrom dash import html\nfrom dash import dcc\nfrom dash.dependencies import Input, Output\nimport plotly.express as px\n\nspacex_df = pd.read_csv(\"spacex_launch_dash.csv\")\nmax_payload = spacex_df['Payload Mass (kg)'].max()\nmin_payload = spacex_df['Payload Mass (kg)'].min()\n\napp = dash.Dash(__name__)\n\napp.layout = html.Div(children=[html.H1('SpaceX Launch Records Dashboard',\n\nstyle={'textAlign': 'center'}),\n\ndcc.Dropdown(id='site-dropdown',\n\noptions=[\n    \n{'label': 'All Sites', 'value': 'ALL'},\n{'label': 'CCAFS LC-40', 'value': 'CCAFS LC-40'},\n{'label': 'VAFB SLC-4E', 'value': 'VAFB SLC-4E'},\n{'label': 'KSC LC-39A', 'value': 'KSC LC-39A'},\n{'label': 'CCAFS SLC-40', 'value': 'CCAFS SLC-40'}\n\n],\n\nvalue='ALL',\nplaceholder='Select a Launch Site here',\nsearchable=True\n),\n\nhtml.Br(),\n\nhtml.Div(dcc.Graph(id='success-pie-chart')),\n\nhtml.Br(),\n\nhtml.P(\"Payload range (Kg):\"),\n\ndcc.RangeSlider(id='payload-slider',\n\nmin=0,\n\nmax=10000,\n\nstep=1000,\n\nvalue=[min_payload, max_payload]\n\n),\n\nhtml.Div(dcc.Graph(id='success-payload-scatter-chart')),\n\n])\n\n\n@app.callback(Output(component_id='success-pie-chart', component_property='figure'),\n\nInput(component_id='site-dropdown', component_property='value'))\n\n\ndef get_pie_chart(entered_site):\n\nif entered_site == 'ALL':\n    filtered_df = spacex_df\n    fig = px.pie(filtered_df, values='class', \n    names='Launch Site', \n    title='Success Count for all launch sites')\n    return fig\nelse:\n    filtered_df=spacex_df[spacex_df['Launch Site']== entered_site]\n    filtered_df=filtered_df.groupby(['Launch Site','class']).size().reset_index(name='class count')\n    fig=px.pie(filtered_df,values='class count',names='class',title=f\"Total Success Launches for site {entered_site}\")\n    return fig\n\n\n@app.callback(Output(component_id='success-payload-scatter-chart',component_property='figure'),\n\n[Input(component_id='site-dropdown',component_property='value'),\n\nInput(component_id='payload-slider',component_property='value')])\n\ndef scatter(entered_site,payload):\n\n    filtered_df = spacex_df[spacex_df['Payload Mass (kg)'].between(payload[0],payload[1])]\n    if entered_site=='ALL':\n        fig=px.scatter(filtered_df,x='Payload Mass (kg)',y='class',color='Booster Version Category',title='Success count on Payload mass for all sites')\n    return fig\n\n    else:\n\n        fig=px.scatter(filtered_df[filtered_df['Launch Site']==entered_site],x='Payload Mass (kg)',y='class',color='Booster Version Category',title=f\"Success count on Payload mass for site {entered_site}\")\n        return fig\n\nif __name__ == '__main__':\napp.run_server()"
        }
    ],
    "metadata": {
        "kernelspec": {
            "display_name": "Python 3.7",
            "language": "python",
            "name": "python3"
        },
        "language_info": {
            "codemirror_mode": {
                "name": "ipython",
                "version": 3
            },
            "file_extension": ".py",
            "mimetype": "text/x-python",
            "name": "python",
            "nbconvert_exporter": "python",
            "pygments_lexer": "ipython3",
            "version": "3.7.11"
        }
    },
    "nbformat": 4,
    "nbformat_minor": 1
}